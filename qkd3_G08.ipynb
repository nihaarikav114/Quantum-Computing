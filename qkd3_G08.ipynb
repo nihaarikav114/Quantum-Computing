{
  "cells": [
    {
      "cell_type": "markdown",
      "metadata": {
        "id": "npDjPynTSF73"
      },
      "source": [
        "# QKD2: Complete the \"Alice,\" \"Bob,\" and \"Alice & Bob\" sections"
      ]
    },
    {
      "cell_type": "code",
      "execution_count": null,
      "metadata": {
        "collapsed": true,
        "id": "muZnudRLZvtT"
      },
      "outputs": [],
      "source": [
        "#@title #Execute This Cell First!\n",
        "#This cell's contents should match those of photon.py\n",
        "\n",
        "import random\n",
        "import numpy as np\n",
        "\n",
        "class InputError(Exception):\n",
        "    def __int__(self, expression, message):\n",
        "        self.expression = expression\n",
        "        self.message = message\n",
        "\n",
        "class Photon:\n",
        "\n",
        "    def __init__(self, Hcomp=0, Vcomp=0):\n",
        "        self.alpha = Hcomp\n",
        "        self.beta  = Vcomp\n",
        "\n",
        "    # This is for debugging purposes only!\n",
        "    def toString(self):\n",
        "        if np.isreal(self.alpha):\n",
        "            string = str(self.alpha) + \"|H> \"\n",
        "        else:\n",
        "            string = str(self.alpha) + \"|H> \"\n",
        "        if np.isreal(self.beta):\n",
        "            if self.beta >= 0:\n",
        "                string += \"+ \" + str(self.beta) + \"|V>\"\n",
        "            else:\n",
        "                string += \"- \" + str(-self.beta) + \"|V>\"\n",
        "        else:\n",
        "            string += \"+ \" + str(self.beta) + \"|V>\"\n",
        "        return string\n",
        "\n",
        "    def prepareVacuum(self):\n",
        "        energyPerMode = 0.5; # in units of hbar*omega\n",
        "        x0 = np.sqrt(energyPerMode)*random.gauss(0,1)/np.sqrt(2)\n",
        "        y0 = np.sqrt(energyPerMode)*random.gauss(0,1)/np.sqrt(2)\n",
        "        x1 = np.sqrt(energyPerMode)*random.gauss(0,1)/np.sqrt(2)\n",
        "        y1 = np.sqrt(energyPerMode)*random.gauss(0,1)/np.sqrt(2)\n",
        "        self.alpha = complex(x0, y0)\n",
        "        self.beta  = complex(x1, y1)\n",
        "\n",
        "    def prepare(self, alpha, beta, avgPhotonNumber):\n",
        "        if avgPhotonNumber < 0:\n",
        "            raise InputError()\n",
        "        vac = Photon()\n",
        "        vac.prepareVacuum()\n",
        "        self.alpha = alpha * np.sqrt(avgPhotonNumber) + vac.alpha\n",
        "        self.beta  = beta  * np.sqrt(avgPhotonNumber) + vac.beta\n",
        "\n",
        "    def prepareH(self, avgPhotonNumber):\n",
        "        self.prepare(1, 0, avgPhotonNumber)\n",
        "\n",
        "    def prepareV(self, avgPhotonNumber):\n",
        "        self.prepare(0,1, avgPhotonNumber)\n",
        "\n",
        "    def prepareD(self, avgPhotonNumber):\n",
        "        self.prepare(1/np.sqrt(2),  1/np.sqrt(2), avgPhotonNumber)\n",
        "\n",
        "    def prepareA(self, avgPhotonNumber):\n",
        "        self.prepare(1/np.sqrt(2), -1/np.sqrt(2), avgPhotonNumber)\n",
        "\n",
        "    def prepareR(self, avgPhotonNumber):\n",
        "        self.prepare(1/np.sqrt(2),  1j/np.sqrt(2), avgPhotonNumber)\n",
        "\n",
        "    def prepareL(self, avgPhotonNumber):\n",
        "        self.prepare(1/np.sqrt(2), -1j/np.sqrt(2), avgPhotonNumber)\n",
        "\n",
        "    def measureHV(self, probDarkCount):\n",
        "        if probDarkCount < 0 or probDarkCount > 1:\n",
        "            raise InputError\n",
        "        threshold  = -0.5*np.log(1 - np.sqrt(1-probDarkCount))\n",
        "        intensityH = abs(self.alpha)**2\n",
        "        intensityV = abs(self.beta)**2\n",
        "        # The photon is absorbed by the detector:\n",
        "        self.prepareVacuum()\n",
        "        # The outcome is determined by threshold exceedances:\n",
        "        if intensityH <= threshold and intensityV <= threshold:\n",
        "            return \"N\" # no detection (invalid measurement)\n",
        "        elif intensityH >  threshold and intensityV <= threshold:\n",
        "            return \"H\" # single H photon detected\n",
        "        elif intensityH <=  threshold and intensityV > threshold:\n",
        "            return \"V\" # single V photon detected\n",
        "        else:\n",
        "            return \"M\" # multiple detections (invalid measurement)\n",
        "\n",
        "    def measureDA(self, probDarkCount):\n",
        "        a = self.alpha\n",
        "        b = self.beta\n",
        "        self.alpha = (a+b)/np.sqrt(2)\n",
        "        self.beta  = (a-b)/np.sqrt(2)\n",
        "        outcome = self.measureHV(probDarkCount)\n",
        "        if outcome == \"H\": return \"D\"\n",
        "        if outcome == \"V\": return \"A\"\n",
        "        else: return outcome\n",
        "\n",
        "    def measureRL(self, probDarkCount):\n",
        "        a = self.alpha\n",
        "        b = self.beta\n",
        "        self.alpha = (a-b*1j)/np.sqrt(2)\n",
        "        self.beta  = (a+b*1j)/np.sqrt(2)\n",
        "        outcome = self.measureHV(probDarkCount)\n",
        "        if outcome == \"H\": return \"R\"\n",
        "        if outcome == \"V\": return \"L\"\n",
        "        else: return outcome\n",
        "\n",
        "    def applyPolarizer(self, theta, phi):\n",
        "\t# Apply a polarizing filter according to the input parameters.\n",
        "\t# theta=0,    phi=0:     H polarizer\n",
        "\t# theta=pi/2, phi=0:     V polarizer\n",
        "\t# theta=pi/4, phi=0:     D polarizer\n",
        "\t# theta=pi/4, phi=pi:    A polarizer\n",
        "\t# theta=pi/4, phi=+pi/2: R polarizer\n",
        "\t# theta=pi/4, phi=-pi/2: L polarizer\n",
        "        z = np.exp(1j*phi)\n",
        "        a = self.alpha\n",
        "        b = self.beta\n",
        "        self.alpha = a*(1+np.cos(2*theta))/2 + b*np.sin(2*theta)/2*np.conj(z)\n",
        "        self.beta  = a*np.sin(2*theta)/2*z + b*(1-np.cos(2*theta))/2\n",
        "        # Now add an extra vacuum component.\n",
        "        vac = Photon()\n",
        "        vac.prepareVacuum()\n",
        "        a = vac.alpha\n",
        "        b = vac.beta\n",
        "        self.alpha = self.alpha + a*np.sin(theta)**2 + b*(-np.sin(2*theta)/2)*np.conj(z)\n",
        "        self.beta  = self.beta  + a*(-np.sin(2*theta)/2)*z + b*np.cos(theta)**2\n",
        "\n",
        "    def applyUnitaryGate(self, theta, phi, lamb):\n",
        "        U = [[0,0],[0,0]]\n",
        "        z1 = np.exp(1j*phi)\n",
        "        z2 = -np.exp(1j*lamb)\n",
        "        z3 = np.exp(1j*(lamb+phi))\n",
        "        U[0][0] = np.cos(theta/2)\n",
        "        U[1][0] = np.sin(theta/2)*z1\n",
        "        U[0][1] = np.sin(theta/2)*z2\n",
        "        U[1][1] = np.cos(theta/2)*z3\n",
        "        a = self.alpha\n",
        "        b = self.beta\n",
        "        self.alpha = U[0][0]*a + U[0][1]*b\n",
        "        self.beta  = U[1][0]*a + U[1][1]*b\n",
        "\n",
        "    def applyXGate(self):\n",
        "        # Applies the Pauli X gate\n",
        "        self.applyUnitaryGate(np.pi, 0, np.pi)\n",
        "\n",
        "    def applyYGate(self):\n",
        "        # Applies the Pauli Y gate\n",
        "        self.applyUnitaryGate(np.pi, np.pi/2, np.pi/2)\n",
        "\n",
        "    def applyZGate(self):\n",
        "        # Applies the Pauli X gate\n",
        "        self.applyUnitaryGate(0, np.pi, 0)\n",
        "\n",
        "    def applyHGate(self):\n",
        "        # Applied the Hadamard (half-wavelength) gate\n",
        "        self.applyUnitaryGate(np.pi/2, 0, np.pi)\n",
        "\n",
        "    def applyQGate(self):\n",
        "        # Applies the SH (quarter-wavelength) gate\n",
        "        self.applyUnitaryGate(np.pi/2, np.pi/2, np.pi)\n",
        "\n",
        "    def applyNoisyGate(self, p):\n",
        "        # This operation acts as a depolarizing channel.\n",
        "\t# p = 0 leaves the photon unchanged.\n",
        "\t# p = 1 yields a completely random photon.\n",
        "\t# 0 < p < 1 yields a partially random photon.\n",
        "        if p < 0 or p > 1:\n",
        "            raise InputError\n",
        "        theta = np.arccos(1 - 2*random.uniform(0,1)*p)\n",
        "        phi   = p*(2*random.uniform(0,1) - 1)*np.pi\n",
        "        lamb  = p*(2*random.uniform(0,1) - 1)*np.pi\n",
        "        self.applyUnitaryGate(theta, phi, lamb)\n",
        "\n",
        "    def applyAttenuation(self, r):\n",
        "\t# This operation acts as a partially reflecting beam splitter.\n",
        "\t# r = 0 leaves the photon unchanged.\n",
        "\t# r = 1 completely absorbs the photon, leaving a vacuum state.\n",
        "\t# 0 < r < 1 partially attenuates the photon and adds some vacuum.\n",
        "\t# r is the reflectivity.\n",
        "        if r < 0 or r > 1:\n",
        "            raise InputError\n",
        "        t = np.sqrt(1-r*r) # t is the transmissivity.\n",
        "        vac = Photon()\n",
        "        vac.prepareVacuum()\n",
        "        self.alpha = (self.alpha)*t + (vac.alpha)*r\n",
        "        self.beta  = (self.beta )*t + (vac.beta)*r"
      ]
    },
    {
      "cell_type": "code",
      "execution_count": null,
      "metadata": {
        "collapsed": true,
        "id": "Cwl1M8xUZvtX"
      },
      "outputs": [],
      "source": []
    },
    {
      "cell_type": "code",
      "execution_count": null,
      "metadata": {
        "collapsed": true,
        "id": "2jzAiZ34ZvtX"
      },
      "outputs": [],
      "source": [
        "n = 100 # number of photons"
      ]
    },
    {
      "cell_type": "code",
      "execution_count": null,
      "metadata": {
        "collapsed": true,
        "id": "YoSA29KXZvtX"
      },
      "outputs": [],
      "source": []
    },
    {
      "cell_type": "code",
      "execution_count": null,
      "metadata": {
        "colab": {
          "base_uri": "https://localhost:8080/"
        },
        "collapsed": true,
        "id": "XE8OzBqlZvtY",
        "outputId": "38b75993-af29-486f-e18a-a8e9fb9ef195"
      },
      "outputs": [
        {
          "output_type": "stream",
          "name": "stdout",
          "text": [
            "0011101111110100010101011101111100100111101000100000010011110111110101001110110000110111001000001100\n"
          ]
        }
      ],
      "source": [
        "# Alice --------------------------------------------\n",
        "\n",
        "# Alice generates the raw key.\n",
        "keyAlice = \"\"\n",
        "for i in range(n): # Iterate over the number of photons.\n",
        "    # Append a random character ('0' or '1') to the end.\n",
        "    if random.randint(0,1)==0: # Flip a coin (0 or 1).\n",
        "        keyAlice += '0'\n",
        "    else:\n",
        "        keyAlice += '1'\n",
        "\n",
        "print(keyAlice)\n"
      ]
    },
    {
      "cell_type": "code",
      "execution_count": null,
      "metadata": {
        "colab": {
          "base_uri": "https://localhost:8080/"
        },
        "collapsed": true,
        "id": "Z2BvWiy6ZvtY",
        "outputId": "da462bcf-7ee2-46b9-e78e-0fbd901e768e"
      },
      "outputs": [
        {
          "output_type": "stream",
          "name": "stdout",
          "text": [
            "basisAlice  = +xx++x+x+xxx+x++xx+x+x++++xxxx+x+x+++x+x+++x+xx+xx++x+xx++x++xx++xx++xxxx+x+xx+xxx+x+x++xxxxx++x++x+\n"
          ]
        }
      ],
      "source": [
        "# Alice chooses the encoding basis for each key bit.\n",
        "# This should be a string of '+'s and 'x's with '+'=H/V, 'x'=D/A.\n",
        "basisAlice = \"\"\n",
        "# TODO: Put your code here.\n",
        "for i in range(len(keyAlice)):\n",
        "  if random.randint(0,1)==0:\n",
        "    basisAlice += \"+\"\n",
        "  else:\n",
        "    basisAlice += \"x\"\n",
        "print(\"basisAlice  = \" + basisAlice)"
      ]
    },
    {
      "cell_type": "code",
      "execution_count": null,
      "metadata": {
        "colab": {
          "base_uri": "https://localhost:8080/"
        },
        "collapsed": true,
        "id": "1oyRGKaEZvtY",
        "outputId": "13244550-36b7-4f07-fc76-afbc95c3d10a"
      },
      "outputs": [
        {
          "output_type": "stream",
          "name": "stdout",
          "text": [
            "photonAlice  = HDAVVDVAVAAAHAHHDAHAHAHVVVDAAAVAHDVHHAVAVHVDHDAHDDHHDVDDVVAVHAAVVADVHADDAVAHAAHDDDVAHAVVDDADDHHDVVDH\n"
          ]
        }
      ],
      "source": [
        "# Alice selects a photon state according to the key and basis.\n",
        "# This should be a string of the characters 'H', 'V', 'D', 'A'.\n",
        "photonAlice = \"\"\n",
        "# TODO: Put your code here.\n",
        "for i in range(len(basisAlice)):\n",
        "  if basisAlice[i] == \"+\":\n",
        "    if keyAlice[i] == \"0\":\n",
        "      photonAlice += \"H\"\n",
        "    elif keyAlice[i] == \"1\":\n",
        "      photonAlice += \"V\"\n",
        "  elif basisAlice[i] == \"x\":\n",
        "    if keyAlice[i] == \"0\":\n",
        "      photonAlice += \"D\"\n",
        "    elif keyAlice[i] == \"1\":\n",
        "      photonAlice += \"A\"\n",
        "print(\"photonAlice  = \" + photonAlice)"
      ]
    },
    {
      "cell_type": "code",
      "execution_count": null,
      "metadata": {
        "collapsed": true,
        "id": "PP3VzSuwZvtY"
      },
      "outputs": [],
      "source": [
        "# Alice prepares and sends each photon.\n",
        "# Use the methods of the Photon class to prepare each photon.\n",
        "photonArray = [Photon() for i in range(n)]\n",
        "# TODO: Put your code here.\n",
        "\n",
        "for i in range(n):\n",
        "  if photonAlice[i] == \"H\":\n",
        "    photonArray[i].prepareH(n)\n",
        "  elif photonAlice[i] == \"V\":\n",
        "    photonArray[i].prepareV(n)\n",
        "  elif photonAlice[i] == \"D\":\n",
        "    photonArray[i].prepareD(n)\n",
        "  elif photonAlice[i] == \"A\":\n",
        "    photonArray[i].prepareA(n)\n",
        "  # print(photonArray)"
      ]
    },
    {
      "cell_type": "code",
      "execution_count": null,
      "metadata": {
        "collapsed": true,
        "id": "zByVe4zyZvtZ"
      },
      "outputs": [],
      "source": []
    },
    {
      "cell_type": "code",
      "execution_count": null,
      "metadata": {
        "collapsed": true,
        "id": "JlrSgPGNZvtZ"
      },
      "outputs": [],
      "source": [
        "# Eve   --------------------------------------------\n",
        "\n",
        "# You should implement this section after completing Alice and Bob.\n",
        "# Eve is allowed to do whatever she wants to the photonAlice array.\n",
        "# She cannot, however, have knowledge of Alice's or Bob's choice of bases,\n",
        "# nor Bob's measurement outcomes, until they are publicly announced."
      ]
    },
    {
      "cell_type": "code",
      "execution_count": null,
      "metadata": {
        "collapsed": true,
        "id": "Nn_u3kk1ZvtZ",
        "colab": {
          "base_uri": "https://localhost:8080/"
        },
        "outputId": "c6b6b2f5-a083-4af2-ab52-404603785c01"
      },
      "outputs": [
        {
          "output_type": "stream",
          "name": "stdout",
          "text": [
            "1111111111111111111111111111111111111111111111111111111111111111111111111111111111111111111111111111\n"
          ]
        }
      ],
      "source": [
        "# Eve selects a subsample of photons from Alice to measure.\n",
        "# interceptIndex should be a string of n characters.\n",
        "# Use the convention '0'=ignored, '1'=intercepted\n",
        "interceptIndex = \"\"\n",
        "sampleProp = 1\n",
        "for i in range (n):\n",
        "  if random.random() <= sampleProp:\n",
        "    interceptIndex += \"1\";\n",
        "  else:\n",
        "    interceptIndex += \"0\";\n",
        "print(interceptIndex)\n",
        "\n",
        "# TODO: Put your code here."
      ]
    },
    {
      "cell_type": "code",
      "execution_count": null,
      "metadata": {
        "collapsed": true,
        "id": "JZb2iecOZvtZ",
        "colab": {
          "base_uri": "https://localhost:8080/"
        },
        "outputId": "26fec263-adfd-4f4f-8484-d330bcd998ab"
      },
      "outputs": [
        {
          "output_type": "stream",
          "name": "stdout",
          "text": [
            "++++++++++++++++++++++++++++++++++++++++++++++++++++++++++++++++++++++++++++++++++++++++++++++++++++\n"
          ]
        }
      ],
      "source": [
        "# Eve chooses a basis to measure each intercepted photon.\n",
        "# basisEve should be a string of n characters.\n",
        "# Use the convention '+'=H/V, 'x'=D/A, ' '=not measured\n",
        "basisEve = \"\"\n",
        "for i in range(n):\n",
        "  if interceptIndex[i] == \"1\":\n",
        "    basisEve += \"+\" #No risk of zero percent correct\n",
        "  else:\n",
        "    basisEve += \" \"\n",
        "print(basisEve)\n",
        "# TODO: Put your code here."
      ]
    },
    {
      "cell_type": "code",
      "execution_count": null,
      "metadata": {
        "collapsed": true,
        "id": "5TpZVwaVZvta",
        "colab": {
          "base_uri": "https://localhost:8080/"
        },
        "outputId": "68789dc8-07e7-460d-db98-619fc34b01e1"
      },
      "outputs": [
        {
          "output_type": "stream",
          "name": "stdout",
          "text": [
            "MMMMMMVMVMMMHMHHMMHMHMHVVMMMMMMMHMVHHMMMVHVMHMMMMMMHMVMMVMMVHMMVMMMVHMMMMVMMMMHMMMVMHMVVMMMMMHHMMMMH\n"
          ]
        }
      ],
      "source": [
        "# Eve performs a measurement on each photon.\n",
        "# outcomeEve should be a string of n characters.\n",
        "# Use the convention 'H','V','D','A', ' '=not measured\n",
        "outcomeEve = \"\"\n",
        "probDarkCountEve = 0.5 ##\n",
        "for i in range(n):\n",
        "  if basisEve[i] == '+':\n",
        "    outcomeEve += Photon.measureHV(photonArray[i], probDarkCountEve)\n",
        "  elif basisEve[i] == 'x':\n",
        "    outcomeEve += Photon.measureDA(photonArray[i], probDarkCountEve)\n",
        "  else:\n",
        "    outcomeEve += \" \"\n",
        "print(outcomeEve)\n",
        "\n",
        "# TODO: Put your code here."
      ]
    },
    {
      "cell_type": "code",
      "execution_count": null,
      "metadata": {
        "collapsed": true,
        "id": "dW_PurHbZvta"
      },
      "outputs": [],
      "source": [
        "# Eve resends photons to Bob.\n",
        "# Be sure to handle the cases in which Eve gets an invalid measurement.\n",
        "probDA = 1\n",
        "avgPhotonEve = n\n",
        "for i in range(n):\n",
        "  if outcomeEve[i] == \"M\" or outcomeEve[i] == \"N\":\n",
        "    if random.random() <= probDA:\n",
        "      photonArray[i].prepareD(avgPhotonEve)\n",
        "    else:\n",
        "      photonArray[i].prepareA(avgPhotonEve) #assuming M or N is DA basis\n",
        "  elif outcomeEve[i] == \"H\":\n",
        "    photonArray[i].prepareH(avgPhotonEve)\n",
        "  elif outcomeEve[i] == \"V\":\n",
        "    photonArray[i].prepareV(avgPhotonEve)\n",
        "\n",
        "\n",
        "\n",
        "\n",
        "# TODO: Put your code here."
      ]
    },
    {
      "cell_type": "code",
      "execution_count": null,
      "metadata": {
        "collapsed": true,
        "id": "32CO67XSZvta"
      },
      "outputs": [],
      "source": [
        "# OPTIONAL: Put any other nasty tricks here."
      ]
    },
    {
      "cell_type": "code",
      "execution_count": null,
      "metadata": {
        "collapsed": true,
        "id": "0vZPvijAZvta"
      },
      "outputs": [],
      "source": []
    },
    {
      "cell_type": "code",
      "execution_count": null,
      "metadata": {
        "colab": {
          "base_uri": "https://localhost:8080/"
        },
        "collapsed": true,
        "id": "nXuROD_KZvta",
        "outputId": "dc0cb3f5-013c-400b-89f1-221a43bd7cb5"
      },
      "outputs": [
        {
          "output_type": "stream",
          "name": "stdout",
          "text": [
            "basisBob    = ++x+xxxx++xx+x++xx+xx++++xxxxx++++++xx++xx+x+x+x++x+xx+++++++++xx++xxx+x+++++xxxxxxxxx+xxxxx+xxxxx+x\n"
          ]
        }
      ],
      "source": [
        "# Bob   --------------------------------------------\n",
        "\n",
        "# Bob chooses a basis to measure each photon.\n",
        "# This should be a string of '+'s and 'x's with '+'=H/V, 'x'=D/A.\n",
        "basisBob = \"\"\n",
        "# TODO: Put your code here.\n",
        "for i in range(n):\n",
        "  if random.randint(0,1)==0:\n",
        "    basisBob += \"+\"\n",
        "  else:\n",
        "    basisBob += \"x\"\n",
        "\n",
        "print(\"basisBob    = \" + basisBob)"
      ]
    },
    {
      "cell_type": "code",
      "execution_count": null,
      "metadata": {
        "colab": {
          "base_uri": "https://localhost:8080/"
        },
        "collapsed": true,
        "id": "EJop8vFvZvta",
        "outputId": "291e8ba4-c878-4ea5-c821-585209d1d3e7"
      },
      "outputs": [
        {
          "output_type": "stream",
          "name": "stdout",
          "text": [
            "outcomeBob  = MMDMDDMDVMDDHMHHDDHDMMMVVDDDDDMMHMVHMDMMMMVDHDMDMMDHDMMMVMMVMMMMDMMMMDMDMVMMMDMDDDMDMDVMDDDDMMMDDDMM\n",
            "100\n"
          ]
        }
      ],
      "source": [
        "# Bob performs a measurement on each photon.\n",
        "# Use the methods of the Photon class to measure each photon.\n",
        "# outcomeBob should be a string of n characters.\n",
        "# Use the convention 'H','V','D','A', ' '=not measured\n",
        "outcomeBob = \"\"\n",
        "# TODO: Put your code here.\n",
        "\n",
        "probDarkCount = 0.15\n",
        "\n",
        "for i in range(n):\n",
        "  if basisBob[i] == \"+\":\n",
        "    outcomeBob += photonArray[i].measureHV(probDarkCount)\n",
        "  elif basisBob[i] == \"x\":\n",
        "    outcomeBob += photonArray[i].measureDA(probDarkCount)\n",
        "\n",
        "\n",
        "print(\"outcomeBob  = \" + outcomeBob)\n",
        "print(len(outcomeBob))"
      ]
    },
    {
      "cell_type": "code",
      "execution_count": null,
      "metadata": {
        "colab": {
          "base_uri": "https://localhost:8080/"
        },
        "collapsed": true,
        "id": "0gGCyV0nZvta",
        "outputId": "76c6a81b-f756-4aa1-fe23-12b960719603"
      },
      "outputs": [
        {
          "output_type": "stream",
          "name": "stdout",
          "text": [
            "keyBob      = --0-00-01-000-000000---1100000--0-10-0----1000-0--000---1--1----0----0-0-1---0-000-0-01-0000---000--\n",
            "100\n"
          ]
        }
      ],
      "source": [
        "# Bob infers the raw key.\n",
        "# keyBob should be a string of n characters.\n",
        "# Use the convention '0', '1', '-'=invalid measurement\n",
        "keyBob = \"\"\n",
        "# TODO: Put your code here.\n",
        "\n",
        "for i in range(n):\n",
        "  if outcomeBob[i] == \"H\":\n",
        "    keyBob += \"0\"\n",
        "  elif outcomeBob[i] == \"V\":\n",
        "    keyBob += \"1\"\n",
        "  elif outcomeBob[i] == 'D':\n",
        "    keyBob += \"0\"\n",
        "  elif outcomeBob[i] == \"A\":\n",
        "    keyBob += \"1\"\n",
        "  elif outcomeBob[i] == \"N\" or outcomeBob[i] == 'M': #changed this\n",
        "    keyBob += \"-\"\n",
        "\n",
        "print(\"keyBob      = \" + keyBob)\n",
        "print(len(keyBob))\n"
      ]
    },
    {
      "cell_type": "code",
      "execution_count": null,
      "metadata": {
        "collapsed": true,
        "id": "Y7wJGnQ4Zvtb"
      },
      "outputs": [],
      "source": []
    },
    {
      "cell_type": "code",
      "execution_count": null,
      "metadata": {
        "collapsed": true,
        "id": "1zGtLaTnZvtb"
      },
      "outputs": [],
      "source": [
        "# -----------------------------------------------------------\n",
        "# Alice and Bob now publicly announce which bases they chose.\n",
        "# Bob also announces which of his measurements were invalid.\n",
        "# -----------------------------------------------------------"
      ]
    },
    {
      "cell_type": "code",
      "execution_count": null,
      "metadata": {
        "colab": {
          "base_uri": "https://localhost:8080/"
        },
        "collapsed": true,
        "id": "ZyyM_NDGZvtb",
        "outputId": "9435d7e8-7a68-4ec8-ba0b-ffeee5dcb44c"
      },
      "outputs": [
        {
          "output_type": "stream",
          "name": "stdout",
          "text": [
            "siftedAlice = 0 11 0 11 1101000101  011 01111 0 10 11   1000     00   11 10        1 0 1 0 1 000 1 11 0010   0    \n",
            "siftedBob   = - 0- 0 01 000-000000  -11 0000- 0 10 0-   1000     00   1- 1-        0 0 1 - 0 000 0 01 0000   0    \n"
          ]
        }
      ],
      "source": [
        "# Alice & Bob ----------------------------------------------------------\n",
        "\n",
        "# Alice and Bob extract their sifted keys.\n",
        "# siftedAlice and siftedBob should be strings of length n.\n",
        "# Use the convention '0', '1', ' '=removed\n",
        "siftedAlice = \"\"\n",
        "siftedBob   = \"\"\n",
        "# TODO: Put your code here.\n",
        "\n",
        "for i in range(n):\n",
        "  if basisAlice[i] == basisBob[i]:\n",
        "    siftedAlice += keyAlice[i]\n",
        "    siftedBob += keyBob[i]\n",
        "  else: #changed this\n",
        "    siftedAlice += \" \"\n",
        "    siftedBob += \" \"\n",
        "\n",
        "print(\"siftedAlice = \" + siftedAlice)\n",
        "print(\"siftedBob   = \" + siftedBob)"
      ]
    },
    {
      "cell_type": "code",
      "execution_count": null,
      "metadata": {
        "colab": {
          "base_uri": "https://localhost:8080/"
        },
        "id": "6EDViRyeZvtb",
        "outputId": "8692671e-0953-42e9-93de-7efadf00294d"
      },
      "outputs": [
        {
          "output_type": "stream",
          "name": "stdout",
          "text": [
            "0000001000100000000001100001010000000100001100100000011000100011011000000000000101000001001100000000\n",
            "0.2727272727272727\n"
          ]
        }
      ],
      "source": [
        "# Alice and Bob use a portion of their sifted keys to estimate the quantum bit error rate (QBER).\n",
        "# sampleIndex should be a string of n characters.\n",
        "# Use the convention '0'=ignored, '1'=sampled\n",
        "# The QBER is the fraction of mismatches within the sampled portion.\n",
        "# For large samples, it should be close to the actual QBER,\n",
        "# which Alice and Bob, of course, do not know.\n",
        "sampleIndex = \"\"\n",
        "sampledBobQBER = 0\n",
        "# TODO: Put your code here.\n",
        "\n",
        "sample_rate = 0.2  # Sample 20% of the sifted key for QBER estimation\n",
        "for i in range(len(siftedAlice)):\n",
        "    if random.random() < sample_rate:\n",
        "        sampleIndex += \"1\"\n",
        "    else:\n",
        "        sampleIndex += \"0\"\n",
        "\n",
        "\n",
        "error_count = 0\n",
        "sampled_count = 0\n",
        "for i in range(len(siftedAlice)):\n",
        "    if sampleIndex[i] == \"1\":  # Check if the bit is sampled\n",
        "        sampled_count += 1\n",
        "        if siftedAlice[i] != siftedBob[i]:  # Check for mismatch\n",
        "            error_count += 1\n",
        "\n",
        "if sampled_count > 0:\n",
        "    sampledBobQBER = error_count / sampled_count\n",
        "else:\n",
        "    sampledBobQBER = 0\n",
        "\n",
        "print(sampleIndex)\n",
        "print(sampledBobQBER)\n",
        "\n",
        "\n",
        "\n"
      ]
    },
    {
      "cell_type": "code",
      "execution_count": null,
      "metadata": {
        "colab": {
          "base_uri": "https://localhost:8080/"
        },
        "collapsed": true,
        "id": "NN2_K0cGZvtb",
        "outputId": "9857eeae-7a2e-4e53-da80-6d8729e1a495"
      },
      "outputs": [
        {
          "output_type": "stream",
          "name": "stdout",
          "text": [
            "0 11 0 11  101000101   11 0 1 1 0 10  1     00     00   11 10        1 0 1 0 1  0  1 11 00     0    \n",
            "100\n",
            "- 0- 0 01  00-000000   11 0 0 - 0 10  -     00     00   1- 1-        0 0 1 - 0  0  0 01 00     0    \n"
          ]
        }
      ],
      "source": [
        "# Alice and Bob remove the portion of their sifted keys that was sampled.\n",
        "# Since a portion of the sifted key was publicly revealed, it cannot be used.\n",
        "# secureAlice and secureBob should be strings of length n.\n",
        "# Use the convention '0', '1', ' '=removed\n",
        "secureAlice = \"\"\n",
        "secureBob = \"\"\n",
        "# TODO: Put your code here.\n",
        "\n",
        "for i in range(len(siftedAlice)):\n",
        "  if sampleIndex[i] == \"0\":\n",
        "    secureAlice += siftedAlice[i]\n",
        "    secureBob += siftedBob[i]\n",
        "  else:\n",
        "    secureAlice += \" \" #fixed this\n",
        "    secureBob += \" \"\n",
        "\n",
        "print(secureAlice)\n",
        "print(len(secureAlice))\n",
        "print(secureBob)"
      ]
    },
    {
      "cell_type": "code",
      "execution_count": null,
      "metadata": {
        "collapsed": true,
        "id": "Tq7qTX1OZvtc"
      },
      "outputs": [],
      "source": [
        "# Alice and Bob make a hard determination whether the channel is secure.\n",
        "# If it looks like there's something fishy, better hit the kill switch!\n",
        "channelSecure = True # default value, to be changed to False if Eve suspected\n",
        "# TODO: Put your code here.\n",
        "\n",
        "\n"
      ]
    },
    {
      "cell_type": "code",
      "execution_count": null,
      "metadata": {
        "collapsed": true,
        "id": "Uy0x7ytAZvte"
      },
      "outputs": [],
      "source": []
    },
    {
      "cell_type": "code",
      "execution_count": null,
      "metadata": {
        "collapsed": true,
        "id": "kmW4fWWEZvte"
      },
      "outputs": [],
      "source": [
        "# Eve ------------------------------------------------------------------"
      ]
    },
    {
      "cell_type": "code",
      "execution_count": null,
      "metadata": {
        "collapsed": true,
        "id": "ywKmUL66Zvtf",
        "colab": {
          "base_uri": "https://localhost:8080/"
        },
        "outputId": "a2eb9907-6151-4f02-8880-27eca8c05a5c"
      },
      "outputs": [
        {
          "output_type": "stream",
          "name": "stdout",
          "text": [
            "keyEve      = 0000001010000000000000011000000000100000101000000000010010010001000100000100000000100011000000000000\n",
            "100\n"
          ]
        }
      ],
      "source": [
        "# Eve infers the raw key.\n",
        "# keyEve should be a string of n characters.\n",
        "# Use the convention '0', '1', '-'=invalid measurement, ' '=not measured\n",
        "keyEve = \"\"\n",
        "# TODO: Put your code here.\n",
        "\n",
        "for i in range(n):\n",
        "  if outcomeEve[i] == \"H\":\n",
        "    keyEve += \"0\"\n",
        "  elif outcomeEve[i] == \"V\":\n",
        "    keyEve += \"1\"\n",
        "  elif outcomeEve[i] == 'D':\n",
        "    keyEve += \"0\"\n",
        "  elif outcomeEve[i] == \"A\":\n",
        "    keyEve += \"1\"\n",
        "  elif outcomeEve[i] == \"N\" or outcomeEve[i] == 'M': # should we assume its D?\n",
        "    keyEve += \"0\"\n",
        "  else:\n",
        "    keyEve += \" \"\n",
        "\n",
        "print(\"keyEve      = \" + keyEve)\n",
        "print(len(keyEve))"
      ]
    },
    {
      "cell_type": "code",
      "execution_count": null,
      "metadata": {
        "collapsed": true,
        "id": "rhA8RHF7Zvtf",
        "colab": {
          "base_uri": "https://localhost:8080/"
        },
        "outputId": "411e5e7b-de49-451d-aaf5-cd1d5e23ca9d"
      },
      "outputs": [
        {
          "output_type": "stream",
          "name": "stdout",
          "text": [
            "        1   0 00  0    11       0 10        0      0    1  10            1            1             \n",
            "100\n"
          ]
        }
      ],
      "source": [
        "# Eve extracts her sifted key.\n",
        "# Knowing what Alice and Bob have publically revealed, Eve\n",
        "# now selects which portion of her sifted key to keep.\n",
        "# stolenEve should be strings of length n.\n",
        "# Use the '0', '1', ' '=removed\n",
        "stolenEve = \"\"\n",
        "for i in range(n):\n",
        "  if outcomeEve[i] == photonAlice[i] and secureAlice[i] != \" \":\n",
        "    stolenEve += keyEve[i]\n",
        "  else:\n",
        "    stolenEve += \" \"\n",
        "\n",
        "print(stolenEve)\n",
        "print(len(stolenEve))\n",
        "\n",
        "# TODO: Put your code here."
      ]
    },
    {
      "cell_type": "code",
      "execution_count": null,
      "metadata": {
        "collapsed": true,
        "id": "-KexLZZ2Zvtf"
      },
      "outputs": [],
      "source": []
    },
    {
      "cell_type": "code",
      "execution_count": null,
      "metadata": {
        "colab": {
          "base_uri": "https://localhost:8080/"
        },
        "collapsed": true,
        "id": "0ewYc4BfZvtf",
        "outputId": "9f432500-ff91-4728-fe15-47e2359905b7"
      },
      "outputs": [
        {
          "output_type": "stream",
          "name": "stdout",
          "text": [
            "\n",
            "basisAlice  = +xx++x+x+xxx+x++xx+x+x++++xxxx+x+x+++x+x+++x+xx+xx++x+xx++x++xx++xx++xxxx+x+xx+xxx+x+x++xxxxx++x++x+\n",
            "basisBob    = ++x+xxxx++xx+x++xx+xx++++xxxxx++++++xx++xx+x+x+x++x+xx+++++++++xx++xxx+x+++++xxxxxxxxx+xxxxx+xxxxx+x\n",
            "basisEve    = ++++++++++++++++++++++++++++++++++++++++++++++++++++++++++++++++++++++++++++++++++++++++++++++++++++\n",
            "\n",
            "keyAlice    = 0011101111110100010101011101111100100111101000100000010011110111110101001110110000110111001000001100\n",
            "keyBob      = --0-00-01-000-000000---1100000--0-10-0----1000-0--000---1--1----0----0-0-1---0-000-0-01-0000---000--\n",
            "keyEve      = 0000001010000000000000011000000000100000101000000000010010010001000100000100000000100011000000000000\n",
            "\n",
            "siftedAlice = 0 11 0 11 1101000101  011 01111 0 10 11   1000     00   11 10        1 0 1 0 1 000 1 11 0010   0    \n",
            "siftedBob   = - 0- 0 01 000-000000  -11 0000- 0 10 0-   1000     00   1- 1-        0 0 1 - 0 000 0 01 0000   0    \n",
            "\n",
            "secureAlice = 0 11 0 11  101000101   11 0 1 1 0 10  1     00     00   11 10        1 0 1 0 1  0  1 11 00     0    \n",
            "secureBob   = - 0- 0 01  00-000000   11 0 0 - 0 10  -     00     00   1- 1-        0 0 1 - 0  0  0 01 00     0    \n",
            "stolenEve   =         1   0 00  0    11       0 10        0      0    1  10            1            1             \n",
            "\n",
            "sampledBobQBER = 0.2727272727272727\n",
            "actualBobQBER  = 0.40909090909090906\n",
            "actualEveQBER  = 0.0\n",
            "\n",
            "secureKeyRateBob = 260.0 kbps\n",
            "stolenKeyRateEve = 170.0 kbps\n"
          ]
        }
      ],
      "source": [
        "# ANALYSIS -------------------------------------------------------------\n",
        "\n",
        "# Below is a standard set of metrics to evaluate each protocol.\n",
        "# You need not change any of what follows.\n",
        "\n",
        "# Compare Alice and Bob's sifted keys.\n",
        "numMatchBob = 0\n",
        "actualBobQBER = 0\n",
        "secureKeyRateBob = 0\n",
        "secureKeyLengthBob = 0\n",
        "for i in range(len(secureAlice)):\n",
        "    if secureAlice[i] != ' ':\n",
        "       secureKeyLengthBob += 1\n",
        "       if secureAlice[i] == secureBob[i]:\n",
        "           numMatchBob += 1\n",
        "\n",
        "# Compute the actual quantum bit error rate for Bob.\n",
        "if secureKeyLengthBob > 0:\n",
        "    actualBobQBER = 1 - numMatchBob / secureKeyLengthBob\n",
        "else:\n",
        "    actualBobQBER = float('nan')\n",
        "# Compute the secure key rate, assuming each trial takes 1 microsecond.\n",
        "secureKeyRateBob = (1-actualBobQBER) * secureKeyLengthBob / n * 1e6\n",
        "\n",
        "# Compare Alice and Eve's sifted keys.\n",
        "numMatchEve = 0\n",
        "actualEveQBER = 0\n",
        "stolenKeyRateEve = 0\n",
        "stolenKeyLengthEve = 0\n",
        "for i in range(len(stolenEve)):\n",
        "    if stolenEve[i] != ' ':\n",
        "       stolenKeyLengthEve += 1\n",
        "       if secureAlice[i] == stolenEve[i]:\n",
        "           numMatchEve += 1\n",
        "# Compute the actual quantum bit error rate for Eve.\n",
        "if stolenKeyLengthEve > 0:\n",
        "    actualEveQBER = 1 - numMatchEve / stolenKeyLengthEve\n",
        "else:\n",
        "    actualEveQBER = float('nan')\n",
        "# Compute the stolen key rate, assuming each trial takes 1 microsecond.\n",
        "stolenKeyRateEve = (1-actualEveQBER) * stolenKeyLengthEve / n * 1e6\n",
        "\n",
        "\n",
        "# DISPLAY RESULTS ------------------------------------------------------\n",
        "\n",
        "print(\"\")\n",
        "print(\"basisAlice  = \" + basisAlice)\n",
        "print(\"basisBob    = \" + basisBob)\n",
        "print(\"basisEve    = \" + basisEve)\n",
        "print(\"\")\n",
        "print(\"keyAlice    = \" + keyAlice)\n",
        "print(\"keyBob      = \" + keyBob)\n",
        "print(\"keyEve      = \" + keyEve)\n",
        "print(\"\")\n",
        "print(\"siftedAlice = \" + siftedAlice)\n",
        "print(\"siftedBob   = \" + siftedBob)\n",
        "print(\"\")\n",
        "print(\"secureAlice = \" + secureAlice)\n",
        "print(\"secureBob   = \" + secureBob)\n",
        "print(\"stolenEve   = \" + stolenEve)\n",
        "print(\"\")\n",
        "if not channelSecure:\n",
        "    secureKeyRateBob = 0;\n",
        "    stolenKeyRateEve = 0;\n",
        "    print(\"*********************************************\")\n",
        "    print(\"* ALERT! The quantum channel is not secure. *\")\n",
        "    print(\"*********************************************\")\n",
        "    print(\"\")\n",
        "print(\"sampledBobQBER = \" + str(sampledBobQBER))\n",
        "print(\"actualBobQBER  = \" + str(actualBobQBER))\n",
        "print(\"actualEveQBER  = \" + str(actualEveQBER))\n",
        "print(\"\")\n",
        "print(\"secureKeyRateBob = \" + str(secureKeyRateBob/1000) + \" kbps\")\n",
        "print(\"stolenKeyRateEve = \" + str(stolenKeyRateEve/1000) + \" kbps\")\n",
        "\n",
        "# Your goal is to maximize secureKeyRateBob and minimize stolenKeyRateEve."
      ]
    }
  ],
  "metadata": {
    "colab": {
      "provenance": []
    },
    "kernelspec": {
      "display_name": "Python 3",
      "language": "python",
      "name": "python3"
    },
    "language_info": {
      "codemirror_mode": {
        "name": "ipython",
        "version": 3
      },
      "file_extension": ".py",
      "mimetype": "text/x-python",
      "name": "python",
      "nbconvert_exporter": "python",
      "pygments_lexer": "ipython3",
      "version": "3.10.0"
    }
  },
  "nbformat": 4,
  "nbformat_minor": 0
}