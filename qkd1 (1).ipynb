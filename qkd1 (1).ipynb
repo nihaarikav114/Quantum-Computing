{
 "cells": [
  {
   "cell_type": "code",
   "execution_count": 197,
   "metadata": {
    "collapsed": true,
    "id": "kMCTBB7BZu5z"
   },
   "outputs": [],
   "source": [
    "# TODO: Put your name here.\n",
    "# Name: Nihaarika\n",
    "\n"
   ]
  },
  {
   "cell_type": "code",
   "execution_count": 198,
   "metadata": {
    "cellView": "form",
    "collapsed": true,
    "executionInfo": {
     "elapsed": 3,
     "status": "ok",
     "timestamp": 1643737793331,
     "user": {
      "displayName": "Noah Davis",
      "photoUrl": "https://lh3.googleusercontent.com/a/default-user=s64",
      "userId": "14889395758846975897"
     },
     "user_tz": 360
    },
    "id": "u0ET-2_lX0SZ"
   },
   "outputs": [],
   "source": [
    "#@title #Remember to execute this cell\n",
    "import random\n",
    "import numpy\n",
    "\n",
    "class Qubit:\n",
    "\n",
    "    def __init__(self, Hcomp=0, Vcomp=0):\n",
    "        self.alpha = Hcomp\n",
    "        self.beta  = Vcomp\n",
    "\n",
    "    # This is for debugging purposes only!\n",
    "    def toString(self):\n",
    "        if numpy.isreal(self.alpha):\n",
    "            string = str(self.alpha) + \"|H> \"\n",
    "        else:\n",
    "            string = \"(\" + str(self.alpha) + \")|H> \"\n",
    "        if numpy.isreal(self.beta):\n",
    "            if self.beta >= 0:\n",
    "                string += \"+ \" + str(self.beta) + \"|V>\"\n",
    "            else:\n",
    "                string += \"- \" + str(-self.beta) + \"|V>\"\n",
    "        else:\n",
    "            string += \"+ \" + str(self.beta) + \"|V>\"\n",
    "        return string\n",
    "\n",
    "    def prepare(self, alpha, beta):\n",
    "        self.alpha = alpha\n",
    "        self.beta  = beta\n",
    "\n",
    "    def prepareH(self):\n",
    "        self.prepare(1,0)\n",
    "\n",
    "    def prepareV(self):\n",
    "        self.prepare(0,1)\n",
    "\n",
    "    def prepareD(self):\n",
    "        self.prepare(1/numpy.sqrt(2),  1/numpy.sqrt(2))\n",
    "\n",
    "    def prepareA(self):\n",
    "        self.prepare(1/numpy.sqrt(2), -1/numpy.sqrt(2))\n",
    "\n",
    "    def prepareR(self):\n",
    "        self.prepare(1/numpy.sqrt(2),  1j/numpy.sqrt(2))\n",
    "\n",
    "    def prepareL(self):\n",
    "        self.prepare(1/numpy.sqrt(2), -1j/numpy.sqrt(2))\n",
    "\n",
    "    def measureHV(self):\n",
    "        probH = abs(self.alpha)**2\n",
    "        if random.uniform(0,1) <= probH:\n",
    "            self.prepareH() # collapse to |H> state\n",
    "            return \"H\"\n",
    "        else:\n",
    "            self.prepareV() # collapse to |V> state\n",
    "            return \"V\"\n",
    "\n",
    "    def measureDA(self):\n",
    "        probD = abs((self.alpha+self.beta)/numpy.sqrt(2))**2\n",
    "        if random.uniform(0,1) <= probD:\n",
    "            self.prepareD() # collapse to |D> state\n",
    "            return \"D\"\n",
    "        else:\n",
    "            self.prepareA() # collapse to |A> state\n",
    "            return \"A\"\n",
    "\n",
    "    def measureRL(self):\n",
    "        probR = abs((self.alpha-1j*self.beta)/numpy.sqrt(2))**2\n",
    "        if random.uniform(0,1) <= probR:\n",
    "            self.prepareR() # collapse to |H> state\n",
    "            return \"R\"\n",
    "        else:\n",
    "            self.prepareL() # collapse to |R> state\n",
    "            return \"L\""
   ]
  },
  {
   "cell_type": "code",
   "execution_count": 199,
   "metadata": {
    "collapsed": true,
    "id": "gMhpzZahZu8i"
   },
   "outputs": [],
   "source": [
    "n = 10 # number of qubits\n"
   ]
  },
  {
   "cell_type": "markdown",
   "metadata": {
    "id": "tA2MKNAEaITu"
   },
   "source": [
    "### Alice"
   ]
  },
  {
   "cell_type": "code",
   "execution_count": 200,
   "metadata": {
    "collapsed": true,
    "id": "2foP7igFZvBo"
   },
   "outputs": [
    {
     "name": "stdout",
     "output_type": "stream",
     "text": [
      "keyAlice    = 1100001100\n"
     ]
    }
   ],
   "source": [
    "# Alice generates the raw key.\n",
    "keyAlice = \"\"\n",
    "for i in range(n): # Iterate over the number of qubits.\n",
    "    # Append a random character ('0' or '1') to the end.\n",
    "    if random.randint(0,1)==0: # Flip a coin (0 or 1).\n",
    "        keyAlice += '0'\n",
    "    else:\n",
    "        keyAlice += '1'\n",
    "print(\"keyAlice    = \" + keyAlice)\n",
    "\n"
   ]
  },
  {
   "cell_type": "code",
   "execution_count": 201,
   "metadata": {
    "collapsed": true,
    "id": "TLJqbWKlZvER"
   },
   "outputs": [
    {
     "name": "stdout",
     "output_type": "stream",
     "text": [
      "basisAlice  = x+++xx+xx+\n"
     ]
    }
   ],
   "source": [
    "# Alice chooses the encoding basis for each key bit.\n",
    "# This should be a string of '+'s and 'x's with '+'=H/V, 'x'=D/A.\n",
    "basisAlice = \"\"\n",
    "# TODO: Put your code here.\n",
    "for i in range (n):\n",
    "    if random.randint(0,1)==0:\n",
    "        basisAlice += '+'\n",
    "    else:\n",
    "        basisAlice += 'x'\n",
    "print(\"basisAlice  = \" + basisAlice)"
   ]
  },
  {
   "cell_type": "code",
   "execution_count": 202,
   "metadata": {
    "collapsed": true,
    "id": "4g91yBk0ZvG6"
   },
   "outputs": [
    {
     "name": "stdout",
     "output_type": "stream",
     "text": [
      "qubitAlice  = AVHHDDVADH\n"
     ]
    }
   ],
   "source": [
    "# Alice selects a qubit state according to the key and basis.\n",
    "# This should be a string of the characters 'H', 'V', 'D', 'A'.\n",
    "qubitAlice = \"\"\n",
    "# TODO: Put your code here.\n",
    "for i in range (n):\n",
    "    if basisAlice[i] == '+' and keyAlice[i] == '0':\n",
    "        qubitAlice += 'H'\n",
    "    if basisAlice[i] == '+' and keyAlice[i] == '1':\n",
    "        qubitAlice += 'V'\n",
    "    if basisAlice[i] == 'x' and keyAlice[i] == '0':\n",
    "        qubitAlice += 'D'\n",
    "    if basisAlice[i] == 'x' and keyAlice[i] == '1':\n",
    "        qubitAlice += 'A'\n",
    "print(\"qubitAlice  = \" + qubitAlice)"
   ]
  },
  {
   "cell_type": "code",
   "execution_count": 203,
   "metadata": {
    "collapsed": true,
    "id": "77akCIqUZvJm"
   },
   "outputs": [],
   "source": [
    "# Alice prepares and sends each qubit.\n",
    "# Use the methods of the Qubit class to prepare each qubit.\n",
    "qubitArray = [Qubit() for i in range(n)]\n",
    "# TODO: Put your code here.\n",
    "for i in range (n):\n",
    "    if qubitAlice[i] == 'H':\n",
    "        qubitArray[i].prepareH()\n",
    "    if qubitAlice[i] == 'V':\n",
    "        qubitArray[i].prepareV()\n",
    "    if qubitAlice[i] == 'D':\n",
    "        qubitArray[i].prepareD()\n",
    "    if qubitAlice[i] == 'A':\n",
    "        qubitArray[i].prepareA()\n"
   ]
  },
  {
   "cell_type": "code",
   "execution_count": null,
   "metadata": {
    "collapsed": true,
    "id": "4Ik6-CPjaUVD"
   },
   "outputs": [],
   "source": []
  },
  {
   "cell_type": "markdown",
   "metadata": {
    "id": "r-hU5dSbaVjX"
   },
   "source": [
    "### Eve"
   ]
  },
  {
   "cell_type": "code",
   "execution_count": 204,
   "metadata": {
    "collapsed": true,
    "id": "LADhso7jaUYH"
   },
   "outputs": [],
   "source": [
    "# You should implement this section after completing Alice and Bob."
   ]
  },
  {
   "cell_type": "code",
   "execution_count": 205,
   "metadata": {
    "collapsed": true,
    "id": "VkPUBK7xaUbF"
   },
   "outputs": [
    {
     "name": "stdout",
     "output_type": "stream",
     "text": [
      "basisEve    = x++++xxx++\n"
     ]
    }
   ],
   "source": [
    "# Eve chooses a basis to measure each qubit.\n",
    "basisEve = \"\"\n",
    "# TODO: Put your code here.\n",
    "for i in range (n):\n",
    "    if random.randint(0,1)==0:\n",
    "        basisEve += '+'\n",
    "    else:\n",
    "        basisEve += 'x'\n",
    "\n",
    "print(\"basisEve    = \" + basisEve)"
   ]
  },
  {
   "cell_type": "code",
   "execution_count": 206,
   "metadata": {
    "collapsed": true,
    "id": "E0oazpe3aUd8"
   },
   "outputs": [
    {
     "name": "stdout",
     "output_type": "stream",
     "text": [
      "outcomeEve  = AVHHVDDAHH\n"
     ]
    }
   ],
   "source": [
    "# Eve performs a measurement on each qubit.\n",
    "# (This is similar to what Bob does.)\n",
    "outcomeEve = \"\"\n",
    "# TODO: Put your code here.\n",
    "for i in range (n):\n",
    "    if basisEve[i] == '+':\n",
    "        outcomeEve+= qubitArray[i].measureHV()\n",
    "    else:\n",
    "        outcomeEve+= qubitArray[i].measureDA()\n",
    "print(\"outcomeEve  = \" + outcomeEve)"
   ]
  },
  {
   "cell_type": "code",
   "execution_count": 207,
   "metadata": {
    "collapsed": true,
    "id": "Dn1vJT52aUg5"
   },
   "outputs": [],
   "source": [
    "# Eve resends qubits to Bob.\n",
    "# (This is similar to what Alice does.)\n",
    "# TODO: Put your code here.\n",
    "for i in range (n):\n",
    "    if outcomeEve[i] == 'H':\n",
    "        qubitArray[i].prepareH()\n",
    "    if outcomeEve[i] == 'V':\n",
    "        qubitArray[i].prepareV()\n",
    "    if outcomeEve[i] == 'D':\n",
    "        qubitArray[i].prepareD()\n",
    "    if outcomeEve[i] == 'A':\n",
    "        qubitArray[i].prepareA()"
   ]
  },
  {
   "cell_type": "code",
   "execution_count": null,
   "metadata": {
    "collapsed": true,
    "id": "PGDeycXGaUji"
   },
   "outputs": [],
   "source": []
  },
  {
   "cell_type": "markdown",
   "metadata": {
    "id": "STajzViVajxj"
   },
   "source": [
    "### Bob"
   ]
  },
  {
   "cell_type": "code",
   "execution_count": 208,
   "metadata": {
    "collapsed": true,
    "id": "2Rjt8pHhaUmk"
   },
   "outputs": [
    {
     "name": "stdout",
     "output_type": "stream",
     "text": [
      "basisBob    = xx+xxx++xx\n"
     ]
    }
   ],
   "source": [
    "# Bob chooses a basis to measure each qubit.\n",
    "# (This is similar to what Alice does.)\n",
    "basisBob = \"\"\n",
    "# TODO: Put your code here.\n",
    "for i in range (n):\n",
    "    if random.randint(0,1)==0:\n",
    "        basisBob += '+'\n",
    "    else:\n",
    "        basisBob += 'x'\n",
    "print(\"basisBob    = \" + basisBob)"
   ]
  },
  {
   "cell_type": "code",
   "execution_count": 209,
   "metadata": {
    "collapsed": true,
    "id": "0HBikldiZvMA"
   },
   "outputs": [
    {
     "name": "stdout",
     "output_type": "stream",
     "text": [
      "outcomeBob  = AAHDADVVAD\n"
     ]
    }
   ],
   "source": [
    "# Bob performs a measurement on each qubit.\n",
    "# Use the methods of the Qubit class to measure each qubit.\n",
    "outcomeBob = \"\"\n",
    "# TODO: Put your code here.\n",
    "for i in range (n):\n",
    "    if basisBob[i] == '+':\n",
    "        outcomeBob+= qubitArray[i].measureHV()\n",
    "    else:\n",
    "        outcomeBob+= qubitArray[i].measureDA()\n",
    "print(\"outcomeBob  = \" + outcomeBob)\n",
    "# This should be a string of the characters 'H', 'V', 'D', 'A'."
   ]
  },
  {
   "cell_type": "code",
   "execution_count": 210,
   "metadata": {
    "collapsed": true,
    "id": "ineaBAWlZvOX"
   },
   "outputs": [
    {
     "name": "stdout",
     "output_type": "stream",
     "text": [
      "keyBob   = 1100101110\n"
     ]
    }
   ],
   "source": [
    "# Bob infers the raw key.\n",
    "keyBob = \"\"\n",
    "# TODO: Put your code here.\n",
    "for i in range(n):\n",
    "    if outcomeBob[i] == 'H' or outcomeBob[i] == 'D':\n",
    "        keyBob += '0'\n",
    "    if outcomeBob[i] == 'V' or outcomeBob[i] == 'A':\n",
    "        keyBob += '1'\n",
    "print(\"keyBob   = \" + keyBob)\n",
    "# Only about half of Bob's raw key with match Alice's raw key."
   ]
  },
  {
   "cell_type": "code",
   "execution_count": null,
   "metadata": {
    "collapsed": true,
    "id": "SooPDwHUX3tp"
   },
   "outputs": [],
   "source": []
  },
  {
   "cell_type": "code",
   "execution_count": null,
   "metadata": {
    "collapsed": true,
    "id": "UJBvxPxZasRL"
   },
   "outputs": [],
   "source": []
  },
  {
   "cell_type": "markdown",
   "metadata": {
    "id": "WoT9sqRHatAi"
   },
   "source": [
    "### Alice and Bob now publicly announce which bases they chose."
   ]
  },
  {
   "cell_type": "code",
   "execution_count": 211,
   "metadata": {
    "collapsed": true,
    "id": "IAhLNNSVasT3"
   },
   "outputs": [
    {
     "name": "stdout",
     "output_type": "stream",
     "text": [
      "siftedAlice = 1 0 001 0 \n",
      "siftedBob   = 1 0 101 1 \n"
     ]
    }
   ],
   "source": [
    "# Alice and Bob extract their sifted keys.\n",
    "siftedAlice = \"\"\n",
    "siftedBob   = \"\"\n",
    "# TODO: Put your code here.\n",
    "for i in range (n):\n",
    "    if basisAlice[i] == basisBob[i]:\n",
    "        siftedAlice += keyAlice[i]\n",
    "        siftedBob += keyBob[i]\n",
    "    else:\n",
    "        siftedAlice += ' '\n",
    "        siftedBob += ' '\n",
    "print(\"siftedAlice = \" + siftedAlice)\n",
    "print(\"siftedBob   = \" + siftedBob)"
   ]
  },
  {
   "cell_type": "code",
   "execution_count": 212,
   "metadata": {
    "collapsed": true,
    "id": "bYmI-TSeasXC"
   },
   "outputs": [
    {
     "name": "stdout",
     "output_type": "stream",
     "text": [
      "80.0% match\n"
     ]
    }
   ],
   "source": [
    "numMatch = 0\n",
    "if len(siftedAlice) != len(siftedBob):\n",
    "    print(\"Sifted keys are different lengths!\")\n",
    "else:\n",
    "    for i in range(len(siftedAlice)):\n",
    "        if siftedAlice[i] == siftedBob[i]:\n",
    "           numMatch += 1\n",
    "    matchPercent = numMatch / len(siftedAlice) * 100\n",
    "print(str(matchPercent) + \"% match\")"
   ]
  },
  {
   "cell_type": "code",
   "execution_count": null,
   "metadata": {
    "collapsed": true,
    "id": "hI48hMslasZg"
   },
   "outputs": [],
   "source": []
  },
  {
   "cell_type": "code",
   "execution_count": 213,
   "metadata": {
    "collapsed": true,
    "id": "s9FAoZjJascQ"
   },
   "outputs": [],
   "source": [
    "# Without Eve, you should expect a 100% match.\n",
    "# With Eve present, this will drop to about 75%.\n",
    "# (Using a larger value of n will give better statistics.)\n",
    "\n",
    "# Sample Output ---------------------------------------------\n",
    "# keyAlice    = 0101100000\n",
    "# basisAlice  = +x+x++++x+\n",
    "# qubitAlice  = HAHAVHHHDH\n",
    "# basisEve    = x++xx+x+++\n",
    "# outcomeEve  = DVHADHAHHH\n",
    "# basisBob    = x+xx+x++xx\n",
    "# outcomeBob  = DVDAHDVHDA\n",
    "# keyBob      = 0101001001\n",
    "# siftedAlice = 11000\n",
    "# siftedBob   = 10100\n",
    "# 60.0% match\n",
    "# -----------------------------------------------------------"
   ]
  },
  {
   "cell_type": "code",
   "execution_count": null,
   "metadata": {
    "collapsed": true,
    "id": "PL2zcvdrase0"
   },
   "outputs": [],
   "source": []
  }
 ],
 "metadata": {
  "colab": {
   "collapsed_sections": [],
   "name": "qkd1.ipynb",
   "provenance": []
  },
  "kernelspec": {
   "display_name": "base",
   "language": "python",
   "name": "python3"
  },
  "language_info": {
   "codemirror_mode": {
    "name": "ipython",
    "version": 3
   },
   "file_extension": ".py",
   "mimetype": "text/x-python",
   "name": "python",
   "nbconvert_exporter": "python",
   "pygments_lexer": "ipython3",
   "version": "3.10.9"
  }
 },
 "nbformat": 4,
 "nbformat_minor": 0
}
